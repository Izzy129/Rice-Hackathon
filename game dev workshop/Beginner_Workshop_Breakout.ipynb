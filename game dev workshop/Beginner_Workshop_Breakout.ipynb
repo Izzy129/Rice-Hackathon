{
  "cells": [
    {
      "cell_type": "markdown",
      "metadata": {
        "id": "6Fkcu9imHCBH"
      },
      "source": [
        "**This workshop is built upon https://github.com/araboy24/BreakoutYT**"
      ]
    },
    {
      "cell_type": "markdown",
      "metadata": {
        "id": "c8K3QQ6W8OjC"
      },
      "source": [
        "# Set-Up"
      ]
    },
    {
      "cell_type": "markdown",
      "metadata": {
        "id": "cYxOXOZl8Z95"
      },
      "source": [
        "(Only need if you are working on colab)\n",
        "Import your resources - images, sounds, etc."
      ]
    },
    {
      "cell_type": "code",
      "execution_count": null,
      "metadata": {
        "colab": {
          "base_uri": "https://localhost:8080/"
        },
        "id": "NbGjHFvi8Zoi",
        "outputId": "9ee50501-389c-451b-d69e-9ff28f2a7e1f"
      },
      "outputs": [
        {
          "name": "stdout",
          "output_type": "stream",
          "text": [
            "Mounted at /content/drive\n"
          ]
        }
      ],
      "source": [
        "# from google.colab import drive\n",
        "# drive.mount('/content/drive')"
      ]
    },
    {
      "cell_type": "markdown",
      "metadata": {
        "id": "veFnlJPM8gB_"
      },
      "source": [
        "Import necessay libraries"
      ]
    },
    {
      "cell_type": "code",
      "execution_count": 1,
      "metadata": {
        "colab": {
          "base_uri": "https://localhost:8080/"
        },
        "id": "-a4nHEBG9nBm",
        "outputId": "e5669d75-556c-4777-b325-1b084ab0df94"
      },
      "outputs": [
        {
          "name": "stdout",
          "output_type": "stream",
          "text": [
            "Requirement already satisfied: pygame in c:\\users\\israe\\onedrive\\desktop\\rice hackathon\\hackrice\\lib\\site-packages (2.6.0)\n"
          ]
        },
        {
          "name": "stderr",
          "output_type": "stream",
          "text": [
            "\n",
            "[notice] A new release of pip is available: 23.2.1 -> 24.2\n",
            "[notice] To update, run: python.exe -m pip install --upgrade pip\n"
          ]
        }
      ],
      "source": [
        "!pip install pygame"
      ]
    },
    {
      "cell_type": "markdown",
      "metadata": {
        "id": "9xTeJdLsV-5e"
      },
      "source": [
        "All resources (e.g. sound effects, background, etc) could be find at:\n",
        "https://drive.google.com/drive/folders/1vHp2_VBwONzBgU5wvaJo83EL4jDXJ-cp?usp=sharing"
      ]
    },
    {
      "cell_type": "markdown",
      "metadata": {
        "id": "EBwHYD8q7zyA"
      },
      "source": [
        "# How to make a screen with backgrounds you like? (checkpoint 1)"
      ]
    },
    {
      "cell_type": "code",
      "execution_count": 11,
      "metadata": {
        "id": "h_4-L2ha4xhQ"
      },
      "outputs": [],
      "source": [
        "import pygame\n",
        "pygame.init()\n",
        "\n",
        "sw = 800 # these parameters could be tuned to match your background file\n",
        "sh = 800\n",
        "\n",
        "# assume you are working on your local machine\n",
        "# (file addresses are relative to your current working directory)\n",
        "bg = pygame.image.load('starsbg.jpg')\n",
        "\n",
        "# set up your screen based on your sw, sh parameter\n",
        "win = pygame.display.set_mode((sw, sh)) # surface!\n",
        "pygame.display.set_caption(\"Break-out-game\")\n",
        "\n",
        "# an object controls the framerate of your game\n",
        "clock = pygame.time.Clock()\n",
        "\n",
        "# function for redrawing the game window\n",
        "def redraw_window():\n",
        "    # put your background at the middle of the screen\n",
        "    win.blit(bg, (0, 0))\n",
        "\n",
        "    # update your background\n",
        "    pygame.display.update()\n",
        "\n",
        "run = True\n",
        "while run:\n",
        "    # set the framerate\n",
        "    clock.tick(120)\n",
        "\n",
        "    # the game ends until an event QUIT happen\n",
        "    for event in pygame.event.get():\n",
        "        if event.type == pygame.QUIT:\n",
        "            run = False\n",
        "\n",
        "    redraw_window()\n",
        "\n",
        "# quite pygame when your game ends\n",
        "pygame.quit()"
      ]
    },
    {
      "cell_type": "markdown",
      "metadata": {
        "id": "WhWmZRQQDZXM"
      },
      "source": [
        "# Time for some objects in your game!"
      ]
    },
    {
      "cell_type": "code",
      "execution_count": 10,
      "metadata": {
        "id": "pABDjASaISDy"
      },
      "outputs": [],
      "source": [
        "class Paddle:\n",
        "    def __init__(self, x, y, width, height, color):\n",
        "        self.x = x      # (x, y) is the left-top corner of the object\n",
        "        self.y = y\n",
        "        self.width = width\n",
        "        self.height = height\n",
        "        self.color = color\n",
        "    def draw(self, win): # win here is the surface(screen) we defined before\n",
        "        # draw.rect means draw a rectangle!\n",
        "        pygame.draw.rect(win, self.color, (self.x, self.y, self.width, self.height))\n",
        "\n",
        "class Ball:\n",
        "    def __init__(self, x, y, width, height, color):\n",
        "        self.x = x\n",
        "        self.y = y\n",
        "        self.width = width\n",
        "        self.height = height\n",
        "        self.color = color\n",
        "        self.xv = 0     # the velocity in x-direction\n",
        "        self.yv = 0     # the velocity in y-direction\n",
        "    def draw(self, win):\n",
        "        pygame.draw.rect(win, self.color, (self.x, self.y, self.width, self.height))\n",
        "    def move(self):\n",
        "        self.x += self.xv\n",
        "        self.y += self.yv\n",
        "\n",
        "class Brick:\n",
        "    def __init__(self, x, y, width, height, color):\n",
        "        self.x = x\n",
        "        self.y = y\n",
        "        self.width = width\n",
        "        self.height = height\n",
        "        self.color = color\n",
        "        self.visible = True\n",
        "    def draw(self, win): # win here is the surface(screen) we defined before\n",
        "        # draw.rect means draw a rectangle!\n",
        "        pygame.draw.rect(win, self.color, (self.x, self.y, self.width, self.height))"
      ]
    },
    {
      "cell_type": "markdown",
      "metadata": {
        "id": "9iy0vTrfMljg"
      },
      "source": [
        "# Add objects in your game! (checkpoint 2)"
      ]
    },
    {
      "cell_type": "code",
      "execution_count": 20,
      "metadata": {
        "id": "kfTLnTt0Mqtf"
      },
      "outputs": [],
      "source": [
        "import pygame\n",
        "\n",
        "class Paddle:\n",
        "    def __init__(self, x, y, width, height, color):\n",
        "        self.x = x      # (x, y) is the left-top corner of the object\n",
        "        self.y = y\n",
        "        self.width = width\n",
        "        self.height = height\n",
        "        self.color = color\n",
        "    def draw(self, win): # win here is the surface(screen) we defined before\n",
        "        # draw.rect means draw a rectangle!\n",
        "        pygame.draw.rect(win, self.color, (self.x, self.y, self.width, self.height))\n",
        "\n",
        "class Ball:\n",
        "    def __init__(self, x, y, width, height, color):\n",
        "        self.x = x\n",
        "        self.y = y\n",
        "        self.width = width\n",
        "        self.height = height\n",
        "        self.color = color\n",
        "        self.xv = 0     # the velocity in x-direction\n",
        "        self.yv = 0     # the velocity in y-direction\n",
        "    def draw(self, win):\n",
        "        pygame.draw.rect(win, self.color, (self.x, self.y, self.width, self.height))\n",
        "    def move(self):\n",
        "        self.x += self.xv\n",
        "        self.y += self.yv\n",
        "\n",
        "class Brick:\n",
        "    def __init__(self, x, y, width, height, color):\n",
        "        self.x = x\n",
        "        self.y = y\n",
        "        self.width = width\n",
        "        self.height = height\n",
        "        self.color = color\n",
        "        self.visible = True\n",
        "    def draw(self, win): # win here is the surface(screen) we defined before\n",
        "        # draw.rect means draw a rectangle!\n",
        "        pygame.draw.rect(win, self.color, (self.x, self.y, self.width, self.height))\n",
        "\n",
        "\n",
        "\n",
        "# function for redrawing the game window\n",
        "def redraw_window():\n",
        "    # put your background at the middle of the screen\n",
        "    win.blit(bg, (0, 0))\n",
        "\n",
        "    # draw your objects!\n",
        "    paddle.draw(win)\n",
        "    ball.draw(win)\n",
        "    for brick in brick_list:\n",
        "      if brick.visible:\n",
        "        brick.draw(win)\n",
        "\n",
        "\n",
        "\n",
        "    # update your background\n",
        "    pygame.display.update()\n",
        "\n",
        "\n",
        "\n",
        "# function for initializing bricks\n",
        "def init_bricks():\n",
        "    global brick_list\n",
        "    brick_list = []\n",
        "    for i in range(10):\n",
        "        for j in range(6):\n",
        "          # you can change those coordinates of bricks as you want!\n",
        "          brick_list.append(Brick(10 + i * 79, 50 + j * 35, 70, 25, (120, 200, 200)))\n",
        "\n",
        "pygame.init()\n",
        "\n",
        "sw = 800 # these parameters could be tuned to match your background file\n",
        "sh = 800\n",
        "\n",
        "# assume you are working on your local machine\n",
        "# (file addresses are relative to your current working directory)\n",
        "bg = pygame.image.load('starsbg.jpg')\n",
        "\n",
        "# set up your screen based on your sw, sh parameter\n",
        "win = pygame.display.set_mode((sw, sh)) # surface!\n",
        "pygame.display.set_caption(\"Break-out-game\")\n",
        "\n",
        "# an object controls the framerate of your game\n",
        "clock = pygame.time.Clock()\n",
        "\n",
        "# create objects!\n",
        "\n",
        "paddle = Paddle(sw/2 - 50, sh - 100, 100, 20, (255, 255, 255))\n",
        "ball = Ball(sw/2 - 50, sh - 200, 20, 20, (255, 255, 255))\n",
        "brick_list = []\n",
        "init_bricks()\n",
        "\n",
        "\n",
        "\n",
        "\n",
        "\n",
        "run = True\n",
        "while run:\n",
        "    # set the framerate\n",
        "    clock.tick(120)\n",
        "\n",
        "    # the game ends until an event QUIT happen\n",
        "    for event in pygame.event.get():\n",
        "        if event.type == pygame.QUIT:\n",
        "            run = False\n",
        "\n",
        "    redraw_window()\n",
        "\n",
        "# quite pygame when your game ends\n",
        "pygame.quit()"
      ]
    },
    {
      "cell_type": "markdown",
      "metadata": {
        "id": "Rjyd2g7jQq3e"
      },
      "source": [
        "# Make your objects move!"
      ]
    },
    {
      "cell_type": "code",
      "execution_count": 22,
      "metadata": {
        "id": "bTAO5aTNRCo6"
      },
      "outputs": [],
      "source": [
        "while run:\n",
        "    # set the framerate\n",
        "    clock.tick(120)\n",
        "\n",
        "\n",
        "\n",
        "    # move your ball!\n",
        "    ball.move()\n",
        "\n",
        "    # move your paddle!\n",
        "    # get_pos()[0] gets the x-coord of your mouse\n",
        "    if pygame.mouse.get_pos()[0] - paddle.width // 2 < 0:\n",
        "        paddle.x = 0\n",
        "    elif pygame.mouse.get_pos()[0] + paddle.width // 2 > sw:\n",
        "        paddle.x = sw - paddle.width\n",
        "    else:\n",
        "        # the case when mouse is on your screen\n",
        "        paddle.x = pygame.mouse.get_pos()[0] - paddle.width // 2\n",
        "\n",
        "\n",
        "    # collision check for ball and paddle!\n",
        "    if (ball.x >= paddle.x and ball.x <= paddle.x + paddle.w) or (ball.x + ball.w >= paddle.x and ball.x + ball.w <= paddle.x + paddle.w):\n",
        "        if ball.y + ball.height >= paddle.y and ball.y + ball.height <= paddle.y + paddle.height:\n",
        "            ball.yv *= -1\n",
        "\n",
        "    # collision check for ball and screen's edges\n",
        "    if ball.x + ball.width >= sw:\n",
        "          ball.xv *= -1\n",
        "    if ball.x < 0:\n",
        "          ball.xv *= -1\n",
        "    if ball.y <= 0:\n",
        "          ball.yv *= -1\n",
        "\n",
        "    # collision check for ball and bricks!\n",
        "    # check for every bricks in brick_list\n",
        "    for brick in brick_list:\n",
        "        if (ball.x >= brick.x and ball.x <= brick.x + brick.width) or ball.x + ball.width >= brick.x and ball.x + ball.width <= brick.x + brick.w:\n",
        "            if (ball.y >= brick.y and ball.y <= brick.y + brick.height) or ball.y + ball.height >= brick.y and ball.y + ball.height <= brick.y + brick.height:\n",
        "                brick.visible = False\n",
        "                bricks.pop(bricks.index(brick))\n",
        "                # reverse the velocity when collision happened!\n",
        "                ball.yv *= -1\n",
        "                break\n",
        "\n",
        "\n",
        "    # the game ends until an event QUIT happen\n",
        "    for event in pygame.event.get():\n",
        "        if event.type == pygame.QUIT:\n",
        "            run = False\n",
        "\n",
        "    redraw_window()"
      ]
    },
    {
      "cell_type": "markdown",
      "metadata": {
        "id": "nC4NIpQxcCS5"
      },
      "source": [
        "# Add collision detection in your game! (checkpoint 3)"
      ]
    },
    {
      "cell_type": "code",
      "execution_count": 30,
      "metadata": {
        "id": "ktXnaTCrcJr6"
      },
      "outputs": [],
      "source": [
        "import pygame\n",
        "\n",
        "class Paddle:\n",
        "    def __init__(self, x, y, width, height, color):\n",
        "        self.x = x      # (x, y) is the left-top corner of the object\n",
        "        self.y = y\n",
        "        self.width = width\n",
        "        self.height = height\n",
        "        self.color = color\n",
        "    def draw(self, win): # win here is the surface(screen) we defined before\n",
        "        # draw.rect means draw a rectangle!\n",
        "        pygame.draw.rect(win, self.color, (self.x, self.y, self.width, self.height))\n",
        "\n",
        "class Ball:\n",
        "    def __init__(self, x, y, width, height, color):\n",
        "        self.x = x\n",
        "        self.y = y\n",
        "        self.width = width\n",
        "        self.height = height\n",
        "        self.color = color\n",
        "        self.xv = 2     # the velocity in x-direction\n",
        "        self.yv = 2     # the velocity in y-direction\n",
        "    def draw(self, win):\n",
        "        pygame.draw.rect(win, self.color, (self.x, self.y, self.width, self.height))\n",
        "    def move(self):\n",
        "        self.x += self.xv\n",
        "        self.y += self.yv\n",
        "\n",
        "class Brick:\n",
        "    def __init__(self, x, y, width, height, color):\n",
        "        self.x = x\n",
        "        self.y = y\n",
        "        self.width = width\n",
        "        self.height = height\n",
        "        self.color = color\n",
        "        self.visible = True\n",
        "    def draw(self, win): # win here is the surface(screen) we defined before\n",
        "        # draw.rect means draw a rectangle!\n",
        "        pygame.draw.rect(win, self.color, (self.x, self.y, self.width, self.height))\n",
        "\n",
        "\n",
        "\n",
        "# function for redrawing the game window\n",
        "def redraw_window():\n",
        "    # put your background at the middle of the screen\n",
        "    win.blit(bg, (0, 0))\n",
        "\n",
        "    # draw your objects!\n",
        "    paddle.draw(win)\n",
        "    ball.draw(win)\n",
        "    for brick in brick_list:\n",
        "      if brick.visible:\n",
        "        brick.draw(win)\n",
        "\n",
        "\n",
        "\n",
        "    # update your background\n",
        "    pygame.display.update()\n",
        "\n",
        "\n",
        "\n",
        "# function for initializing bricks\n",
        "def init_bricks():\n",
        "    global brick_list\n",
        "    brick_list = []\n",
        "    for i in range(10):\n",
        "        for j in range(6):\n",
        "          # you can change those coordinates of bricks as you want!\n",
        "          brick_list.append(Brick(10 + i * 79, 50 + j * 35, 70, 25, (120, 200, 200)))\n",
        "\n",
        "pygame.init()\n",
        "\n",
        "sw = 800 # these parameters could be tuned to match your background file\n",
        "sh = 800\n",
        "\n",
        "# assume you are working on your local machine\n",
        "# (file addresses are relative to your current working directory)\n",
        "bg = pygame.image.load('starsbg.jpg')\n",
        "\n",
        "# set up your screen based on your sw, sh parameter\n",
        "win = pygame.display.set_mode((sw, sh)) # surface!\n",
        "pygame.display.set_caption(\"Break-out-game\")\n",
        "\n",
        "# an object controls the framerate of your game\n",
        "clock = pygame.time.Clock()\n",
        "\n",
        "# create objects!\n",
        "paddle = Paddle(sw/2 - 50, sh - 100, 100, 20, (255, 255, 255))\n",
        "ball = Ball(sw/2 - 50, sh - 400, 20, 20, (255, 255, 255))\n",
        "brick_list = []\n",
        "init_bricks()\n",
        "\n",
        "\n",
        "\n",
        "\n",
        "\n",
        "run = True\n",
        "while run:\n",
        "    # set the framerate\n",
        "    clock.tick(120)\n",
        "\n",
        "\n",
        "\n",
        "    # move your ball!\n",
        "    ball.move()\n",
        "\n",
        "    # move your paddle!\n",
        "    # get_pos()[0] gets the x-coord of your mouse\n",
        "    if pygame.mouse.get_pos()[0] - paddle.width // 2 < 0:\n",
        "        paddle.x = 0\n",
        "    elif pygame.mouse.get_pos()[0] + paddle.width // 2 > sw:\n",
        "        paddle.x = sw - paddle.width\n",
        "    else:\n",
        "        # the case when mouse is on your screen\n",
        "        paddle.x = pygame.mouse.get_pos()[0] - paddle.width // 2\n",
        "\n",
        "\n",
        "    # collision check for ball and paddle!\n",
        "    if (ball.x >= paddle.x and ball.x <= paddle.x + paddle.width) or (ball.x + ball.width >= paddle.x and ball.x + ball.width <= paddle.x + paddle.width):\n",
        "        if ball.y + ball.height >= paddle.y and ball.y + ball.height <= paddle.y + paddle.height:\n",
        "            ball.yv *= -1\n",
        "\n",
        "    # collision check for ball and screen's edges\n",
        "    if ball.x + ball.width >= sw:\n",
        "          ball.xv *= -1\n",
        "    if ball.x < 0:\n",
        "          ball.xv *= -1\n",
        "    if ball.y <= 0:\n",
        "          ball.yv *= -1\n",
        "\n",
        "    # collision check for ball and bricks!\n",
        "    # check for every bricks in brick_list\n",
        "    for brick in brick_list:\n",
        "        if (ball.x >= brick.x and ball.x <= brick.x + brick.width) or ball.x + ball.width >= brick.x and ball.x + ball.width <= brick.x + brick.width:\n",
        "            if (ball.y >= brick.y and ball.y <= brick.y + brick.height) or ball.y + ball.height >= brick.y and ball.y + ball.height <= brick.y + brick.height:\n",
        "                brick.visible = False\n",
        "                brick_list.pop(brick_list.index(brick))\n",
        "                # reverse the velocity when collision happened!\n",
        "                ball.yv *= -1\n",
        "                break\n",
        "\n",
        "\n",
        "    # the game ends until an event QUIT happen\n",
        "    for event in pygame.event.get():\n",
        "        if event.type == pygame.QUIT:\n",
        "            run = False\n",
        "\n",
        "    redraw_window()\n",
        "\n",
        "# quite pygame when your game ends\n",
        "pygame.quit()"
      ]
    },
    {
      "cell_type": "markdown",
      "metadata": {
        "id": "7BonEmejePMI"
      },
      "source": [
        "# But...where is \"GAME OVER\"? Let's restart after we fail!"
      ]
    },
    {
      "cell_type": "markdown",
      "metadata": {
        "id": "r-RysimqewYq"
      },
      "source": [
        "\"You Win!\" & \"You Lose but it's okay :)\""
      ]
    },
    {
      "cell_type": "code",
      "execution_count": 33,
      "metadata": {
        "id": "NztoFQd8ejKx"
      },
      "outputs": [],
      "source": [
        "# function for redrawing the game window\n",
        "def redraw_window():\n",
        "    # put your background at the middle of the screen\n",
        "    win.blit(bg, (0, 0))\n",
        "\n",
        "    # draw your objects!\n",
        "    paddle.draw(win)\n",
        "    ball.draw(win)\n",
        "    for brick in brick_list:\n",
        "      if brick.visible:\n",
        "        brick.draw(win)\n",
        "\n",
        "\n",
        "    # we need a font object that can be used to render text onto the\n",
        "    # Pygame surface (such as the game window)\n",
        "    font = pygame.font.SysFont('sigma paddleball', 70)\n",
        "    text = \"\"\n",
        "\n",
        "\n",
        "    # gameover is a global boolean variable that keep track of the game progress.\n",
        "    if gameover:\n",
        "        if not brick_list:\n",
        "            # gameover happens when you win (eliminate all bricks)\n",
        "            text = font.render('You Win!', True, (255, 255, 255))\n",
        "        else:\n",
        "            # gameover happens when you lose (ball hits the bottom)\n",
        "            text = font.render('You Lose but it\\'s okay :)', True, (255, 255, 255))\n",
        "\n",
        "    win.blit(text, (sw // 2 - text.get_width() // 2, sh // 2 - text.get_height() // 2))\n",
        "\n",
        "\n",
        "    # update your background\n",
        "    pygame.display.update()\n",
        "\n",
        "\n",
        "\n",
        "\n",
        "\n",
        "################################################################################\n",
        "while run:\n",
        "    # set the framerate\n",
        "    clock.tick(120)\n",
        "\n",
        "\n",
        "    if not gameover:\n",
        "        # move your ball!\n",
        "        ball.move()\n",
        "\n",
        "        # move your paddle!\n",
        "        # get_pos()[0] gets the x-coord of your mouse\n",
        "        if pygame.mouse.get_pos()[0] - paddle.width // 2 < 0:\n",
        "            paddle.x = 0\n",
        "        elif pygame.mouse.get_pos()[0] + paddle.width // 2 > sw:\n",
        "            paddle.x = sw - paddle.width\n",
        "        else:\n",
        "            # the case when mouse is on your screen\n",
        "            paddle.x = pygame.mouse.get_pos()[0] - paddle.width // 2\n",
        "\n",
        "\n",
        "        # collision check for ball and paddle!\n",
        "        if (ball.x >= paddle.x and ball.x <= paddle.x + paddle.width) or (ball.x + ball.width >= paddle.x and ball.x + ball.width <= paddle.x + paddle.width):\n",
        "            if ball.y + ball.height >= paddle.y and ball.y + ball.height <= paddle.y + paddle.height:\n",
        "                ball.yv *= -1\n",
        "\n",
        "        # collision check for ball and screen's edges\n",
        "        if ball.x + ball.width >= sw:\n",
        "              ball.xv *= -1\n",
        "        if ball.x < 0:\n",
        "              ball.xv *= -1\n",
        "        if ball.y <= 0:\n",
        "              ball.yv *= -1\n",
        "\n",
        "        # collision check for ball and bricks!\n",
        "        # check for every bricks in brick_list\n",
        "        for brick in brick_list:\n",
        "            if (ball.x >= brick.x and ball.x <= brick.x + brick.width) or ball.x + ball.width >= brick.x and ball.x + ball.width <= brick.x + brick.width:\n",
        "                if (ball.y >= brick.y and ball.y <= brick.y + brick.height) or ball.y + ball.height >= brick.y and ball.y + ball.height <= brick.y + brick.height:\n",
        "                    brick.visible = False\n",
        "                    brick_list.pop(brick_list.index(brick))\n",
        "                    # reverse the velocity when collision happened!\n",
        "                    ball.yv *= -1\n",
        "                    break\n",
        "\n",
        "        # gameover when you fail to catch the ball\n",
        "        if ball.y >= sh:\n",
        "            gameover = True\n",
        "\n",
        "    # we want to restart after gameover by taping space\n",
        "    else:\n",
        "        keys = pygame.key.get_pressed()\n",
        "        if keys[pygame.K_SPACE]:\n",
        "            # restart the game when you press space\n",
        "            gameover = False\n",
        "            ball = Ball(sw/2 - 50, sh - 400, 20, 20, (255, 255, 255))\n",
        "            init_bricks()\n",
        "\n",
        "\n",
        "    # the game ends until an event QUIT happen\n",
        "    for event in pygame.event.get():\n",
        "        if event.type == pygame.QUIT:\n",
        "            run = False\n",
        "\n",
        "    redraw_window()\n",
        "\n",
        "\n",
        "\n",
        "\n",
        "\n",
        "\n"
      ]
    },
    {
      "cell_type": "markdown",
      "metadata": {
        "id": "I5_aipV6kioH"
      },
      "source": [
        "# Final...? (checkpoint 4)"
      ]
    },
    {
      "cell_type": "code",
      "execution_count": 37,
      "metadata": {
        "id": "yuwvNz8iklxp"
      },
      "outputs": [],
      "source": [
        "import pygame\n",
        "\n",
        "                \n",
        "\n",
        "\n",
        "class Paddle:\n",
        "    def __init__(self, x, y, width, height, color):\n",
        "        self.x = x      # (x, y) is the left-top corner of the object\n",
        "        self.y = y\n",
        "        self.width = width\n",
        "        self.height = height\n",
        "        self.color = color\n",
        "    def draw(self, win): # win here is the surface(screen) we defined before\n",
        "        # draw.rect means draw a rectangle!\n",
        "        pygame.draw.rect(win, self.color, (self.x, self.y, self.width, self.height))\n",
        "\n",
        "class Ball:\n",
        "    def __init__(self, x, y, width, height, color):\n",
        "        self.x = x\n",
        "        self.y = y\n",
        "        self.width = width\n",
        "        self.height = height\n",
        "        self.color = color\n",
        "        self.xv = 2     # the velocity in x-direction\n",
        "        self.yv = 2     # the velocity in y-direction\n",
        "    def draw(self, win):\n",
        "        pygame.draw.rect(win, self.color, (self.x, self.y, self.width, self.height))\n",
        "    def move(self):\n",
        "        self.x += self.xv\n",
        "        self.y += self.yv\n",
        "\n",
        "class Brick:\n",
        "    def __init__(self, x, y, width, height, color):\n",
        "        self.x = x\n",
        "        self.y = y\n",
        "        self.width = width\n",
        "        self.height = height\n",
        "        self.color = color\n",
        "        self.visible = True\n",
        "    def draw(self, win): # win here is the surface(screen) we defined before\n",
        "        # draw.rect means draw a rectangle!\n",
        "        pygame.draw.rect(win, self.color, (self.x, self.y, self.width, self.height))\n",
        "\n",
        "\n",
        "\n",
        "# function for redrawing the game window\n",
        "def redraw_window():\n",
        "    # put your background at the middle of the screen\n",
        "    win.blit(bg, (0, 0))\n",
        "\n",
        "    # draw your objects!\n",
        "    paddle.draw(win)\n",
        "    ball.draw(win)\n",
        "    for brick in brick_list:\n",
        "      if brick.visible:\n",
        "        brick.draw(win)\n",
        "\n",
        "\n",
        "    # we need a font object that can be used to render text onto the\n",
        "    # Pygame surface (such as the game window)\n",
        "    font = pygame.font.SysFont('Arial', 70)\n",
        "    \n",
        "\n",
        "\n",
        "    # gameover is a global boolean variable that keep track of the game progress.\n",
        "    if gameover:\n",
        "        if not brick_list:\n",
        "            # gameover happens when you win (eliminate all bricks)\n",
        "            text = font.render('You Win!', True, (255, 255, 255))\n",
        "        else:\n",
        "            # gameover happens when you lose (ball hits the bottom)\n",
        "            text = font.render('You Lose but it\\'s okay :)', True, (255, 255, 255))\n",
        "        win.blit(text, (sw // 2 - text.get_width() // 2, sh // 2 - text.get_height() // 2))\n",
        "\n",
        "\n",
        "    # update your background\n",
        "    pygame.display.update()\n",
        "\n",
        "\n",
        "\n",
        "# function for initializing bricks\n",
        "def init_bricks():\n",
        "    global brick_list\n",
        "    brick_list = []\n",
        "    for i in range(10):\n",
        "        for j in range(6):\n",
        "          # you can change those coordinates of bricks as you want!\n",
        "          brick_list.append(Brick(10 + i * 79, 50 + j * 35, 70, 25, (120, 200, 200)))\n",
        "\n",
        "pygame.init()\n",
        "\n",
        "sw = 800 # these parameters could be tuned to match your background file\n",
        "sh = 800\n",
        "\n",
        "# assume you are working on your local machine\n",
        "# (file addresses are relative to your current working directory)\n",
        "bg = pygame.image.load('starsbg.jpg')\n",
        "\n",
        "# set up your screen based on your sw, sh parameter\n",
        "win = pygame.display.set_mode((sw, sh)) # surface!\n",
        "pygame.display.set_caption(\"Break-out-game\")\n",
        "\n",
        "# an object controls the framerate of your game\n",
        "clock = pygame.time.Clock()\n",
        "\n",
        "# create objects!\n",
        "paddle = Paddle(sw/2 - 50, sh - 100, 100, 20, (255, 255, 255))\n",
        "ball = Ball(sw/2 - 50, sh - 400, 20, 20, (255, 255, 255))\n",
        "brick_list = []\n",
        "init_bricks()\n",
        "\n",
        "\n",
        "\n",
        "\n",
        "gameover = False\n",
        "run = True\n",
        "while run:\n",
        "    # set the framerate\n",
        "    clock.tick(120)\n",
        "\n",
        "\n",
        "    if not gameover:\n",
        "        # move your ball!\n",
        "        ball.move()\n",
        "\n",
        "        # move your paddle!\n",
        "        # get_pos()[0] gets the x-coord of your mouse\n",
        "        if pygame.mouse.get_pos()[0] - paddle.width // 2 < 0:\n",
        "            paddle.x = 0\n",
        "        elif pygame.mouse.get_pos()[0] + paddle.width // 2 > sw:\n",
        "            paddle.x = sw - paddle.width\n",
        "        else:\n",
        "            # the case when mouse is on your screen\n",
        "            paddle.x = pygame.mouse.get_pos()[0] - paddle.width // 2\n",
        "\n",
        "\n",
        "        # collision check for ball and paddle!\n",
        "        if (ball.x >= paddle.x and ball.x <= paddle.x + paddle.width) or (ball.x + ball.width >= paddle.x and ball.x + ball.width <= paddle.x + paddle.width):\n",
        "            if ball.y + ball.height >= paddle.y and ball.y + ball.height <= paddle.y + paddle.height:\n",
        "                ball.yv *= -1\n",
        "\n",
        "        # collision check for ball and screen's edges\n",
        "        if ball.x + ball.width >= sw:\n",
        "              ball.xv *= -1\n",
        "        if ball.x < 0:\n",
        "              ball.xv *= -1\n",
        "        if ball.y <= 0:\n",
        "              ball.yv *= -1\n",
        "\n",
        "        # collision check for ball and bricks!\n",
        "        # check for every bricks in brick_list\n",
        "        for brick in brick_list:\n",
        "            if (ball.x >= brick.x and ball.x <= brick.x + brick.width) or ball.x + ball.width >= brick.x and ball.x + ball.width <= brick.x + brick.width:\n",
        "                if (ball.y >= brick.y and ball.y <= brick.y + brick.height) or ball.y + ball.height >= brick.y and ball.y + ball.height <= brick.y + brick.height:\n",
        "                    brick.visible = False\n",
        "                    brick_list.pop(brick_list.index(brick))\n",
        "                    # reverse the velocity when collision happened!\n",
        "                    ball.yv *= -1\n",
        "                    break\n",
        "\n",
        "        # gameover when you fail to catch the ball\n",
        "        if ball.y >= sh:\n",
        "            gameover = True\n",
        "\n",
        "    # we want to restart after gameover by taping space\n",
        "    else:\n",
        "        keys = pygame.key.get_pressed()\n",
        "        if keys[pygame.K_SPACE]:\n",
        "            # restart the game when you press space\n",
        "            gameover = False\n",
        "            ball = Ball(sw/2 - 50, sh - 400, 20, 20, (255, 255, 255))\n",
        "            init_bricks()\n",
        "\n",
        "\n",
        "    # the game ends until an event QUIT happen\n",
        "    for event in pygame.event.get():\n",
        "        if event.type == pygame.QUIT:\n",
        "            run = False\n",
        "\n",
        "    redraw_window()\n",
        "\n",
        "# quite pygame when your game ends\n",
        "pygame.quit()"
      ]
    },
    {
      "cell_type": "markdown",
      "metadata": {
        "id": "fb3AhaRBlwHT"
      },
      "source": [
        "# **It's not over, you could change codes by yourself to make it more interesting!**"
      ]
    },
    {
      "cell_type": "markdown",
      "metadata": {
        "id": "oy4qJ5VCrOBQ"
      },
      "source": [
        "Add your customized sound effect!"
      ]
    },
    {
      "cell_type": "code",
      "execution_count": 40,
      "metadata": {
        "id": "ZB2Mmm3XrWnI"
      },
      "outputs": [
        {
          "data": {
            "text/plain": [
              "<pygame.mixer.Channel at 0x24d6367b710>"
            ]
          },
          "execution_count": 40,
          "metadata": {},
          "output_type": "execute_result"
        }
      ],
      "source": [
        "pygame.mixer.init()\n",
        "\n",
        "brickHitSound = pygame.mixer.Sound(\"bullet.wav\") # replace the name with any wav file you have!\n",
        "bounceSound = pygame.mixer.Sound(\"brick.wav\")\n",
        "\n",
        "brickHitSound.play()"
      ]
    },
    {
      "cell_type": "markdown",
      "metadata": {
        "id": "coTt8zm1selh"
      },
      "source": [
        "How about random velocity when initializing the ball?"
      ]
    },
    {
      "cell_type": "code",
      "execution_count": 41,
      "metadata": {
        "id": "D1b2cMs3soNS"
      },
      "outputs": [],
      "source": [
        "import random # the library you might find useful\n",
        "class Ball:\n",
        "    def __init__(self, x, y, width, height, color):\n",
        "        self.x = x\n",
        "        self.y = y\n",
        "        self.width = width\n",
        "        self.height = height\n",
        "        self.color = color\n",
        "        self.xv = random.choice([2, 3, 4, -2, -3, -4])     # the velocity in x-direction\n",
        "        self.yv = random.choice([1, 2, 3, 4])              # the velocity in y-direction\n",
        "    def draw(self, win):\n",
        "        pygame.draw.rect(win, self.color, (self.x, self.y, self.width, self.height))\n",
        "    def move(self):\n",
        "        self.x += self.xv\n",
        "        self.y += self.yv"
      ]
    },
    {
      "cell_type": "markdown",
      "metadata": {
        "id": "Z095Q38QtZqo"
      },
      "source": [
        "\n",
        "\n",
        "*   How about change the layout or the shape of bricks?\n",
        "*   How about generate more balls when your ball hits the brick?\n",
        "*   ...\n"
      ]
    }
  ],
  "metadata": {
    "colab": {
      "provenance": []
    },
    "kernelspec": {
      "display_name": "Python 3",
      "name": "python3"
    },
    "language_info": {
      "codemirror_mode": {
        "name": "ipython",
        "version": 3
      },
      "file_extension": ".py",
      "mimetype": "text/x-python",
      "name": "python",
      "nbconvert_exporter": "python",
      "pygments_lexer": "ipython3",
      "version": "3.11.7"
    }
  },
  "nbformat": 4,
  "nbformat_minor": 0
}
